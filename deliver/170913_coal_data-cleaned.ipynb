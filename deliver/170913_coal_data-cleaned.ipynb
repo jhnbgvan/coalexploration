{
 "cells": [
  {
   "cell_type": "markdown",
   "metadata": {},
   "source": [
    "# Data cleaning process\n",
    "Author = Bruno\n",
    "Cleans the data by formatting them and removing uneeded values "
   ]
  },
  {
   "cell_type": "code",
   "execution_count": 2,
   "metadata": {
    "collapsed": true
   },
   "outputs": [],
   "source": [
    "# General params\n",
    "input_file = \"../data/coalpublic2013.xls\"\n",
    "output_file = \"../data/coalpublic2013_cleaned.csv\""
   ]
  },
  {
   "cell_type": "code",
   "execution_count": 3,
   "metadata": {
    "collapsed": true
   },
   "outputs": [],
   "source": [
    "# Only keep libs needed for calculation (no plotting)\n",
    "# Import DS usual library\n",
    "import pandas as pd\n",
    "# Import numpy to get extra functions\n",
    "import numpy as np"
   ]
  },
  {
   "cell_type": "code",
   "execution_count": 4,
   "metadata": {
    "collapsed": true
   },
   "outputs": [],
   "source": [
    "# Build a pandas dataframe and fill it up with xls data\n",
    "# The first 2 rows are dropped since data come after\n",
    "# The column called \"MSHA ID\" is recognised as an ID and is placed first\n",
    "df = pd.read_excel(input_file, header=2,index_col=\"MSHA ID\")"
   ]
  },
  {
   "cell_type": "code",
   "execution_count": 5,
   "metadata": {
    "collapsed": true
   },
   "outputs": [],
   "source": [
    "# Correct a typo in the dataframe\n",
    "# In column tagged: \"Company Type\"\n",
    "# Rows with text: 'Indepedent Producer Operator'\n",
    "# original text is replaced by: 'Independent Producer Operator'\n",
    "# to correct the typo.\n",
    "# The replacement is perfomed within the data frame thank to the option: inplace=True\n",
    "df[\"Company Type\"].replace(to_replace='Indepedent Producer Operator',\n",
    "                          value='Independent Producer Operator',\n",
    "                          inplace=True)"
   ]
  },
  {
   "cell_type": "code",
   "execution_count": 6,
   "metadata": {
    "collapsed": true
   },
   "outputs": [],
   "source": [
    "# In the first row giving the name of each column,\n",
    "# replace spaces: \" \" by \"_\".\n",
    "# One uses a lambda function:\n",
    "df.rename(columns=lambda x: x.replace(\" \",\"_\"),inplace=True)"
   ]
  },
  {
   "cell_type": "code",
   "execution_count": 7,
   "metadata": {},
   "outputs": [
    {
     "name": "stdout",
     "output_type": "stream",
     "text": [
      "Number of rows = 1061.\n"
     ]
    }
   ],
   "source": [
    "# Reduce the size of the data frame by only keeping rows for which there indeed is a production bigger than 0\n",
    "df = df[df[\"Production_(short_tons)\"] > 0]\n",
    "nbrDF=len(df)\n",
    "print(\"Number of rows = {}.\".format(nbrDF))"
   ]
  },
  {
   "cell_type": "code",
   "execution_count": 8,
   "metadata": {
    "collapsed": true
   },
   "outputs": [],
   "source": [
    "# Create a new column in the data frame based on the log calculation and called \"Log_Production\"\n",
    "df[\"Log_Production\"] = np.log(df[\"Production_(short_tons)\"])"
   ]
  },
  {
   "cell_type": "code",
   "execution_count": 9,
   "metadata": {
    "collapsed": true
   },
   "outputs": [],
   "source": [
    "# Export in a file the current version of the data frame\n",
    "df.to_csv(output_file)"
   ]
  },
  {
   "cell_type": "code",
   "execution_count": null,
   "metadata": {
    "collapsed": true
   },
   "outputs": [],
   "source": []
  }
 ],
 "metadata": {
  "kernelspec": {
   "display_name": "Python 3",
   "language": "python",
   "name": "python3"
  },
  "language_info": {
   "codemirror_mode": {
    "name": "ipython",
    "version": 3
   },
   "file_extension": ".py",
   "mimetype": "text/x-python",
   "name": "python",
   "nbconvert_exporter": "python",
   "pygments_lexer": "ipython3",
   "version": "3.6.1"
  }
 },
 "nbformat": 4,
 "nbformat_minor": 2
}
